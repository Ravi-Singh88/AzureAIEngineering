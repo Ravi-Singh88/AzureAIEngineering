{
 "cells": [
  {
   "cell_type": "code",
   "execution_count": null,
   "id": "10f9356a-0f04-48d6-9eb3-fc787498d74b",
   "metadata": {
    "tags": []
   },
   "outputs": [],
   "source": [
    "import requests, uuid, json"
   ]
  },
  {
   "cell_type": "code",
   "execution_count": null,
   "id": "1e6b2bf3-5f3e-41cc-9e80-cb1ca151fccd",
   "metadata": {
    "tags": []
   },
   "outputs": [],
   "source": [
    "key = \"<RELACE_WITH_KEY>\"\n",
    "endpoint = \"https://api.cognitive.microsofttranslator.com\"\n",
    "location = \"westus\""
   ]
  },
  {
   "cell_type": "code",
   "execution_count": null,
   "id": "dadf8ee6-aa8e-4fd4-a759-4d24edbe5363",
   "metadata": {
    "tags": []
   },
   "outputs": [],
   "source": [
    "path = '/translate'\n",
    "constructed_url = endpoint + path\n",
    "\n",
    "params = {\n",
    "    'api-version': '3.0',\n",
    "    'from': 'en',\n",
    "    'to': ['fr', 'zu']\n",
    "}\n",
    "\n",
    "headers = {\n",
    "    'Ocp-Apim-Subscription-Key': key,\n",
    "    # location required if you're using a multi-service or regional (not global) resource.\n",
    "    'Ocp-Apim-Subscription-Region': location,\n",
    "    'Content-type': 'application/json',\n",
    "    'X-ClientTraceId': str(uuid.uuid4())\n",
    "}\n",
    "\n",
    "# You can pass more than one object in body.\n",
    "body = [{\n",
    "    'text': 'I would really like to drive your car around the block a few times!'\n",
    "}]\n",
    "\n",
    "request = requests.post(constructed_url, params=params, headers=headers, json=body)\n",
    "response = request.json()\n",
    "\n",
    "print(json.dumps(response, sort_keys=True, ensure_ascii=False, indent=4, separators=(',', ': ')))"
   ]
  },
  {
   "cell_type": "code",
   "execution_count": null,
   "id": "53456264-ae0f-4745-9d61-8c2e2cf1de97",
   "metadata": {},
   "outputs": [],
   "source": []
  }
 ],
 "metadata": {
  "kernelspec": {
   "display_name": "Python 3.10 - SDK v2",
   "language": "python",
   "name": "python310-sdkv2"
  },
  "language_info": {
   "codemirror_mode": {
    "name": "ipython",
    "version": 3
   },
   "file_extension": ".py",
   "mimetype": "text/x-python",
   "name": "python",
   "nbconvert_exporter": "python",
   "pygments_lexer": "ipython3",
   "version": "3.10.14"
  }
 },
 "nbformat": 4,
 "nbformat_minor": 5
}
