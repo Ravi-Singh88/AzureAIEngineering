{
 "cells": [
  {
   "cell_type": "markdown",
   "id": "72e07357-ff52-4a49-9492-dfcd91b80109",
   "metadata": {},
   "source": [
    "#Resources\n",
    "https://github.com/Azure/azure-sdk-for-python/blob/main/sdk/translation/azure-ai-translation-text/README.md\n",
    "\n",
    "This attempt failed because the API is in preview and we could not find a working example. We are getting authentication issues despite correct API Key. So instead with trasnlator its recommended to use WebAPI Code example"
   ]
  },
  {
   "cell_type": "code",
   "execution_count": null,
   "id": "09768b8f-0d89-4e95-a52d-ec7a8a737e4a",
   "metadata": {
    "tags": []
   },
   "outputs": [],
   "source": [
    "%pip install azure-ai-translation-text==1.0.0b1"
   ]
  },
  {
   "cell_type": "code",
   "execution_count": null,
   "id": "6d30ca86-7efc-48a5-9907-5a2aeffbc5da",
   "metadata": {
    "tags": []
   },
   "outputs": [],
   "source": [
    "from azure.ai.translation.text import TextTranslationClient\n",
    "from azure.core.credentials import AzureKeyCredential"
   ]
  },
  {
   "cell_type": "code",
   "execution_count": null,
   "id": "96a1625b-7ee3-4589-af9f-c6854dd395ff",
   "metadata": {
    "tags": []
   },
   "outputs": [],
   "source": [
    "apikey = \"<RELACE_WITH_KEY>\"\n",
    "region = \"westus\""
   ]
  },
  {
   "cell_type": "code",
   "execution_count": null,
   "id": "2196436c-c60b-42be-a4b1-0fc5c306de1f",
   "metadata": {
    "tags": []
   },
   "outputs": [],
   "source": [
    "credential = AzureKeyCredential(apikey)\n",
    "text_translator = TextTranslationClient(credential=credential, region=region)"
   ]
  },
  {
   "cell_type": "code",
   "execution_count": null,
   "id": "24d3fe69-2fc6-48a2-a9ff-ffc0379708e1",
   "metadata": {
    "tags": []
   },
   "outputs": [],
   "source": [
    "try:\n",
    "    langs = [\"cs\", \"es\", \"de\"]\n",
    "    input_text_elements = [\"This is a test\"]\n",
    "\n",
    "    response = text_translator.translate(body=input_text_elements, to_language=langs)\n",
    "    translation = response[0] if response else None\n",
    "\n",
    "    if translation:\n",
    "        detected_language = translation.detected_language\n",
    "        if detected_language:\n",
    "            print(\n",
    "                f\"Detected languages of the input text: {detected_language.language} with score: {detected_language.score}.\"\n",
    "            )\n",
    "        for translated_text in translation.translations:\n",
    "            print(f\"Text was translated to: '{translated_text.to}' and the result is: '{translated_text.text}'.\")\n",
    "\n",
    "except HttpResponseError as exception:\n",
    "    if exception.error is not None:\n",
    "        print(f\"Error Code: {exception.error.code}\")\n",
    "        print(f\"Message: {exception.error.message}\")"
   ]
  },
  {
   "cell_type": "code",
   "execution_count": null,
   "id": "5d9fe206-3765-40f2-a251-ad9a53ad4b44",
   "metadata": {},
   "outputs": [],
   "source": []
  }
 ],
 "metadata": {
  "kernelspec": {
   "display_name": "Python 3.10 - SDK v2",
   "language": "python",
   "name": "python310-sdkv2"
  },
  "language_info": {
   "codemirror_mode": {
    "name": "ipython",
    "version": 3
   },
   "file_extension": ".py",
   "mimetype": "text/x-python",
   "name": "python",
   "nbconvert_exporter": "python",
   "pygments_lexer": "ipython3",
   "version": "3.10.14"
  }
 },
 "nbformat": 4,
 "nbformat_minor": 5
}
